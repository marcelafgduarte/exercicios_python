{
  "nbformat": 4,
  "nbformat_minor": 0,
  "metadata": {
    "colab": {
      "provenance": []
    },
    "kernelspec": {
      "name": "python3",
      "display_name": "Python 3"
    },
    "language_info": {
      "name": "python"
    }
  },
  "cells": [
    {
      "cell_type": "code",
      "execution_count": 12,
      "metadata": {
        "colab": {
          "base_uri": "https://localhost:8080/"
        },
        "id": "GlEgVqNpnmNT",
        "outputId": "cbab5ca2-4d11-4191-c863-c3d0aaa457a1"
      },
      "outputs": [
        {
          "output_type": "stream",
          "name": "stdout",
          "text": [
            "Digite o seu nome: Marcela\n",
            "Digite o seu CPF: 110.692.777-03\n",
            "Digite o seu endereço: Jardim da Penha\n",
            "Digite a sua idade: 38\n",
            "Digite a sua altura: 1.54\n",
            "Digite o seu telefone: 27 99945-0710\n",
            "Nome: Marcela\n",
            "CPF: 110.692.777-03\n",
            "Endereço: Jardim da Penha\n",
            "Idade: 38\n",
            "Altura: 1.54\n",
            "Telefone: 27 99945-0710\n"
          ]
        }
      ],
      "source": [
        "nome = input('Digite o seu nome: ')\n",
        "cpf = input('Digite o seu CPF: ')\n",
        "endereço = input('Digite o seu endereço: ')\n",
        "idade = input('Digite a sua idade: ')\n",
        "altura = input('Digite a sua altura: ')\n",
        "telefone = input('Digite o seu telefone: ')\n",
        "\n",
        "print('Nome: ' + nome + '\\nCPF: ' + cpf + '\\nEndereço: ' + endereço + '\\nIdade: ' + idade + '\\nAltura: ' + altura + '\\nTelefone: ' + telefone) "
      ]
    }
  ]
}