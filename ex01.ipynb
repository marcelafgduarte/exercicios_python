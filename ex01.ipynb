{
  "nbformat": 4,
  "nbformat_minor": 0,
  "metadata": {
    "colab": {
      "provenance": []
    },
    "kernelspec": {
      "name": "python3",
      "display_name": "Python 3"
    },
    "language_info": {
      "name": "python"
    }
  },
  "cells": [
    {
      "cell_type": "code",
      "execution_count": 13,
      "metadata": {
        "colab": {
          "base_uri": "https://localhost:8080/"
        },
        "id": "GlEgVqNpnmNT",
        "outputId": "a4aea5a7-da9e-4bbe-f886-f22ce4bda545"
      },
      "outputs": [
        {
          "output_type": "stream",
          "name": "stdout",
          "text": [
            "Digite o seu nome: Marcela\n",
            "Digite o seu CPF: 123456789-10\n",
            "Digite o seu endereço: JP\n",
            "Digite a sua idade: 38\n",
            "Digite a sua altura: 1.54\n",
            "Digite o seu telefone: 123456789\n",
            "Nome: Marcela\n",
            "CPF: 123456789-10\n",
            "Endereço: JP\n",
            "Idade: 38\n",
            "Altura: 1.54\n",
            "Telefone: 123456789\n"
          ]
        }
      ],
      "source": [
        "nome = input('Digite o seu nome: ')\n",
        "cpf = input('Digite o seu CPF: ')\n",
        "endereço = input('Digite o seu endereço: ')\n",
        "idade = input('Digite a sua idade: ')\n",
        "altura = input('Digite a sua altura: ')\n",
        "telefone = input('Digite o seu telefone: ')\n",
        "\n",
        "print('Nome: ' + nome + '\\nCPF: ' + cpf + '\\nEndereço: ' + endereço + '\\nIdade: ' + idade + '\\nAltura: ' + altura + '\\nTelefone: ' + telefone) "
      ]
    }
  ]
}