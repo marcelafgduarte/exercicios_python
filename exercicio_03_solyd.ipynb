{
  "nbformat": 4,
  "nbformat_minor": 0,
  "metadata": {
    "colab": {
      "provenance": []
    },
    "kernelspec": {
      "name": "python3",
      "display_name": "Python 3"
    },
    "language_info": {
      "name": "python"
    }
  },
  "cells": [
    {
      "cell_type": "code",
      "execution_count": 3,
      "metadata": {
        "colab": {
          "base_uri": "https://localhost:8080/"
        },
        "id": "folzOSpHVirf",
        "outputId": "27d8df9e-43aa-41a2-e214-a6e480becb79"
      },
      "outputs": [
        {
          "output_type": "stream",
          "name": "stdout",
          "text": [
            "Programa de aptidão para o exército\n",
            "Digite a sua idade: 19\n",
            "Digite o seu peso: 65\n",
            "Digite a sua altura: 19\n",
            "Você está apto para o exército!\n"
          ]
        }
      ],
      "source": [
        "print('Programa de aptidão para o exército')\n",
        "\n",
        "idade = input('Digite a sua idade: ')\n",
        "peso = input('Digite o seu peso: ')\n",
        "altura = input('Digite a sua altura: ')\n",
        "\n",
        "if (idade>'18') and peso>='60' and altura>='1.70':\n",
        "  print('Você está apto para o exército!')\n",
        "\n",
        "else:\n",
        "  print('Você não está apto para o exército!')\n",
        "\n"
      ]
    }
  ]
}